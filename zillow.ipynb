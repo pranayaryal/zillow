{
 "cells": [
  {
   "cell_type": "markdown",
   "metadata": {},
   "source": [
    "## Zillow competition kaggle\n",
    "\n",
    "### Predict LogError based on House features\n",
    "\n",
    "logerror=log(Zestimate)−log(SalePrice)"
   ]
  },
  {
   "cell_type": "code",
   "execution_count": 924,
   "metadata": {
    "collapsed": false,
    "deletable": true,
    "editable": true
   },
   "outputs": [],
   "source": [
    "%matplotlib inline\n",
    "import pandas as pd\n",
    "import numpy as np\n",
    "import seaborn as sns\n",
    "import matplotlib.pyplot as plt\n",
    "import matplotlib\n",
    "import sys\n",
    "from sklearn import linear_model\n",
    "\n",
    "from sklearn.metrics import r2_score\n",
    "from sklearn.metrics import mean_squared_error\n",
    "from sklearn.metrics import accuracy_score\n",
    "\n",
    "from sklearn.model_selection import cross_val_score\n",
    "\n",
    "from sklearn.linear_model import LogisticRegression\n",
    "from sklearn.cross_validation import KFold, cross_val_score\n",
    "from sklearn.linear_model import LassoCV\n",
    "\n",
    "from __future__ import division\n",
    "\n",
    "from sklearn.linear_model import LinearRegression"
   ]
  },
  {
   "cell_type": "code",
   "execution_count": 3,
   "metadata": {
    "collapsed": false,
    "deletable": true,
    "editable": true
   },
   "outputs": [
    {
     "name": "stderr",
     "output_type": "stream",
     "text": [
      "/usr/local/lib/python2.7/dist-packages/IPython/core/interactiveshell.py:2717: DtypeWarning: Columns (22,32,34,49,55) have mixed types. Specify dtype option on import or set low_memory=False.\n",
      "  interactivity=interactivity, compiler=compiler, result=result)\n"
     ]
    }
   ],
   "source": [
    "# prop = pd.read_csv('/home/pranay/Downloads/zillow/properties_2016.csv')\n",
    "prop = pd.read_csv('/home/blackstone/portfolio/zillow/properties_2016.csv')"
   ]
  },
  {
   "cell_type": "code",
   "execution_count": null,
   "metadata": {
    "collapsed": true
   },
   "outputs": [],
   "source": [
    "train = pd.read_csv('/home/blackstone/portfolio/zillow/train_2016_v2.csv')"
   ]
  },
  {
   "cell_type": "code",
   "execution_count": 867,
   "metadata": {
    "collapsed": false
   },
   "outputs": [
    {
     "data": {
      "text/html": [
       "<div>\n",
       "<table border=\"1\" class=\"dataframe\">\n",
       "  <thead>\n",
       "    <tr style=\"text-align: right;\">\n",
       "      <th></th>\n",
       "      <th>parcelid</th>\n",
       "      <th>logerror</th>\n",
       "      <th>transactiondate</th>\n",
       "      <th>yymm</th>\n",
       "      <th>abslogerror</th>\n",
       "      <th>month</th>\n",
       "    </tr>\n",
       "  </thead>\n",
       "  <tbody>\n",
       "    <tr>\n",
       "      <th>0</th>\n",
       "      <td>11016594</td>\n",
       "      <td>0.0276</td>\n",
       "      <td>2016-01-01</td>\n",
       "      <td>2016-01</td>\n",
       "      <td>0.0276</td>\n",
       "      <td>01</td>\n",
       "    </tr>\n",
       "    <tr>\n",
       "      <th>1</th>\n",
       "      <td>14366692</td>\n",
       "      <td>-0.1684</td>\n",
       "      <td>2016-01-01</td>\n",
       "      <td>2016-01</td>\n",
       "      <td>0.1684</td>\n",
       "      <td>01</td>\n",
       "    </tr>\n",
       "    <tr>\n",
       "      <th>2</th>\n",
       "      <td>12098116</td>\n",
       "      <td>-0.0040</td>\n",
       "      <td>2016-01-01</td>\n",
       "      <td>2016-01</td>\n",
       "      <td>0.0040</td>\n",
       "      <td>01</td>\n",
       "    </tr>\n",
       "    <tr>\n",
       "      <th>3</th>\n",
       "      <td>12643413</td>\n",
       "      <td>0.0218</td>\n",
       "      <td>2016-01-02</td>\n",
       "      <td>2016-01</td>\n",
       "      <td>0.0218</td>\n",
       "      <td>01</td>\n",
       "    </tr>\n",
       "    <tr>\n",
       "      <th>4</th>\n",
       "      <td>14432541</td>\n",
       "      <td>-0.0050</td>\n",
       "      <td>2016-01-02</td>\n",
       "      <td>2016-01</td>\n",
       "      <td>0.0050</td>\n",
       "      <td>01</td>\n",
       "    </tr>\n",
       "  </tbody>\n",
       "</table>\n",
       "</div>"
      ],
      "text/plain": [
       "   parcelid  logerror transactiondate     yymm  abslogerror month\n",
       "0  11016594    0.0276      2016-01-01  2016-01       0.0276    01\n",
       "1  14366692   -0.1684      2016-01-01  2016-01       0.1684    01\n",
       "2  12098116   -0.0040      2016-01-01  2016-01       0.0040    01\n",
       "3  12643413    0.0218      2016-01-02  2016-01       0.0218    01\n",
       "4  14432541   -0.0050      2016-01-02  2016-01       0.0050    01"
      ]
     },
     "execution_count": 867,
     "metadata": {},
     "output_type": "execute_result"
    }
   ],
   "source": [
    "train.head()"
   ]
  },
  {
   "cell_type": "code",
   "execution_count": 721,
   "metadata": {
    "collapsed": false
   },
   "outputs": [],
   "source": [
    "df_train = train.merge(prop, on='parcelid', how='left')"
   ]
  },
  {
   "cell_type": "code",
   "execution_count": 722,
   "metadata": {
    "collapsed": true
   },
   "outputs": [],
   "source": [
    "# Make a separate column for month and year\n",
    "train['yymm'] = train['transactiondate'].apply(lambda x: x[0:7])\n",
    "train['abslogerror'] = train['logerror'].apply(lambda x: abs(x))\n",
    "train.transactiondate[10][5:7]\n",
    "train['month'] = train['transactiondate'].apply(lambda x: x[5:7])"
   ]
  },
  {
   "cell_type": "code",
   "execution_count": null,
   "metadata": {
    "collapsed": true
   },
   "outputs": [],
   "source": [
    "# Distribution of log error\n",
    "sns.distplot(train.logerror, kde=False, bins=400)\n",
    "fig = matplotlib.pyplot.gcf()\n",
    "fig.set_size_inches(8, 6)\n",
    "plt.xlim(-0.5, 0.5)"
   ]
  },
  {
   "cell_type": "code",
   "execution_count": null,
   "metadata": {
    "collapsed": true
   },
   "outputs": [],
   "source": [
    "# Distribution of absolute log error\n",
    "sns.distplot(abs(train.logerror), kde=False, bins=400)\n",
    "fig = matplotlib.pyplot.gcf()\n",
    "fig.set_size_inches(8, 6)\n",
    "plt.xlim(0, 0.5)"
   ]
  },
  {
   "cell_type": "code",
   "execution_count": null,
   "metadata": {
    "collapsed": true
   },
   "outputs": [],
   "source": [
    "#Change in Absolute Log Error over the months in 2016 transactions\n",
    "over_time = train.groupby(['month']).abslogerror.mean().sort_index()\n",
    "over_time\n",
    "\n",
    "plt.figure()\n",
    "ax = plt.axes()\n",
    "\n",
    "ax.plot(over_time.index, over_time.values)\n",
    "plt.xlabel('Month in 2016')\n",
    "plt.ylabel('Absolute Log Error')\n",
    "plt.show()"
   ]
  },
  {
   "cell_type": "code",
   "execution_count": 872,
   "metadata": {
    "collapsed": true,
    "deletable": true,
    "editable": true
   },
   "outputs": [],
   "source": [
    "def checkNull(cols):\n",
    "    for column in cols:\n",
    "        perc = df_train[column].isnull().value_counts(normalize=True)[0]*100\n",
    "        print \"%f percent non-null values in column %s\"%(perc, column)"
   ]
  },
  {
   "cell_type": "code",
   "execution_count": null,
   "metadata": {
    "collapsed": true
   },
   "outputs": [],
   "source": [
    "checkNull(df_train.columns)"
   ]
  },
  {
   "cell_type": "code",
   "execution_count": null,
   "metadata": {
    "collapsed": true,
    "deletable": true,
    "editable": true
   },
   "outputs": [],
   "source": [
    "df_train.apply(lambda x: x.isnull().value_counts(normalize=True)[0]).sort_values()"
   ]
  },
  {
   "cell_type": "code",
   "execution_count": 900,
   "metadata": {
    "collapsed": true,
    "deletable": true,
    "editable": true
   },
   "outputs": [],
   "source": [
    "# Creating training set\n",
    "x_train = df_train.drop(['parcelid', 'logerror', 'transactiondate', 'propertyzoningdesc', 'propertycountylandusecode', 'rawcensustractandblock', 'propertyzoningdesc', 'regionidzip', 'censustractandblock'], axis =1)"
   ]
  },
  {
   "cell_type": "code",
   "execution_count": 877,
   "metadata": {
    "collapsed": false,
    "deletable": true,
    "editable": true
   },
   "outputs": [
    {
     "data": {
      "text/plain": [
       "Index([u'calculatedfinishedsquarefeet', u'finishedsquarefeet12',\n",
       "       u'lotsizesquarefeet'],\n",
       "      dtype='object')"
      ]
     },
     "execution_count": 877,
     "metadata": {},
     "output_type": "execute_result"
    }
   ],
   "source": [
    "# Separating based on dtypes\n",
    "object_columns = x_train.dtypes[x_train.dtypes == object].index\n",
    "float_columns = x_train.dtypes[x_train.dtypes == 'float64'].index\n",
    "\n",
    "count_columns = x_train[float_columns].filter(like='cnt').columns\n",
    "id_columns = x_train[float_columns].filter(like='id').columns\n",
    "feet_columns = x_train[float_columns].filter(like='feet').columns\n",
    "sqft_columns = x_train[float_columns].filter(like = 'sqft').columns\n",
    "feet_columns"
   ]
  },
  {
   "cell_type": "code",
   "execution_count": null,
   "metadata": {
    "collapsed": true,
    "deletable": true,
    "editable": true
   },
   "outputs": [],
   "source": [
    "[column for column in float_columns if column not in count_columns and column not in id_columns and column not in\n",
    "feet_columns and column not in sqft_columns]"
   ]
  },
  {
   "cell_type": "code",
   "execution_count": 752,
   "metadata": {
    "collapsed": true,
    "deletable": true,
    "editable": true
   },
   "outputs": [],
   "source": [
    "categorical = ['airconditioningtypeid', 'architecturalstyletypeid',\n",
    "       'buildingclasstypeid', 'buildingqualitytypeid', 'decktypeid',\n",
    "       'heatingorsystemtypeid', 'pooltypeid10', 'pooltypeid2',\n",
    "       'pooltypeid7', 'propertylandusetypeid', 'storytypeid',\n",
    "       'typeconstructiontypeid', 'yearbuilt', 'assessmentyear', 'taxdelinquencyyear', 'propertycountylandusecode',\n",
    "              'hashottuborspa', 'propertyzoningdesc', 'fireplaceflag', 'regionidzip', 'fips', 'regionidcity', 'regionidcounty', 'regionidneighborhood',\n",
    "       'regionidzip', 'rawcensustractandblock', \n",
    "               'taxdelinquencyflag', 'censustractandblock', 'target']\n",
    "\n",
    "numerical = ['finishedfloor1squarefeet', 'calculatedfinishedsquarefeet',\n",
    "       'finishedsquarefeet12', 'finishedsquarefeet13',\n",
    "       'finishedsquarefeet15', 'finishedsquarefeet50',\n",
    "       'finishedsquarefeet6', 'lotsizesquarefeet', 'basementsqft', 'garagetotalsqft', 'yardbuildingsqft17',\n",
    "       'yardbuildingsqft26', 'taxamount', 'poolsizesum', 'landtaxvaluedollarcnt', 'taxvaluedollarcnt', 'structuretaxvaluedollarcnt',\n",
    "            'poolcnt', 'roomcnt', 'unitcnt', 'calculatedbathnbr', 'threequarterbathnbr', 'numberofstories', \n",
    "            'garagecarcnt', 'fireplacecnt','bedroomcnt', 'fullbathcnt', 'bathroomcnt', 'latitude', 'longitude']"
   ]
  },
  {
   "cell_type": "code",
   "execution_count": 895,
   "metadata": {
    "collapsed": true,
    "deletable": true,
    "editable": true
   },
   "outputs": [],
   "source": [
    "#Pick columns with more than 60% non-null values\n",
    "# good_features = data.apply(lambda x: x.isnull().value_counts(normalize=True)[0] > 0.7).index\n",
    "good_features = x_train.apply(lambda x: x.isnull().value_counts(normalize=True)[0] > 0.6)"
   ]
  },
  {
   "cell_type": "code",
   "execution_count": null,
   "metadata": {
    "collapsed": true,
    "deletable": true,
    "editable": true
   },
   "outputs": [],
   "source": [
    "good_features = good_features[good_features].index\n",
    "good_features"
   ]
  },
  {
   "cell_type": "code",
   "execution_count": null,
   "metadata": {
    "collapsed": true,
    "deletable": true,
    "editable": true
   },
   "outputs": [],
   "source": [
    "#### getting only columns from good_features\n",
    "cat_col = [column for column in good_features if column in categorical]\n",
    "cat_col"
   ]
  },
  {
   "cell_type": "code",
   "execution_count": null,
   "metadata": {
    "collapsed": true,
    "deletable": true,
    "editable": true
   },
   "outputs": [],
   "source": [
    "#getting only columns from good_features\n",
    "numerical = [column for column in good_features if column in numerical]\n",
    "numerical"
   ]
  },
  {
   "cell_type": "code",
   "execution_count": 901,
   "metadata": {
    "collapsed": false,
    "deletable": true,
    "editable": true
   },
   "outputs": [],
   "source": [
    "#only index good features from the data\n",
    "x_train = x_train[good_features]"
   ]
  },
  {
   "cell_type": "code",
   "execution_count": 902,
   "metadata": {
    "collapsed": true
   },
   "outputs": [],
   "source": [
    "numeric_data = x_train[numerical]"
   ]
  },
  {
   "cell_type": "code",
   "execution_count": null,
   "metadata": {
    "collapsed": true
   },
   "outputs": [],
   "source": [
    "#Getting correlation more than 0.7\n",
    "cor_df = numeric_data.corr()\n",
    "cor_df[cor_df.apply(lambda x: x > 0.7)]"
   ]
  },
  {
   "cell_type": "code",
   "execution_count": 903,
   "metadata": {
    "collapsed": true
   },
   "outputs": [],
   "source": [
    "numeric_data = numeric_data.drop(['calculatedbathnbr', 'calculatedfinishedsquarefeet', 'finishedsquarefeet12', 'fullbathcnt', 'structuretaxvaluedollarcnt', 'taxvaluedollarcnt', 'landtaxvaluedollarcnt'], axis = 1)"
   ]
  },
  {
   "cell_type": "code",
   "execution_count": null,
   "metadata": {
    "collapsed": true
   },
   "outputs": [],
   "source": [
    "numeric_data.columns"
   ]
  },
  {
   "cell_type": "code",
   "execution_count": 905,
   "metadata": {
    "collapsed": false,
    "deletable": true,
    "editable": true
   },
   "outputs": [],
   "source": [
    "#impute numeric columns with mean\n",
    "numeric_data = numeric_data.apply(lambda x: x.fillna(x.median()))"
   ]
  },
  {
   "cell_type": "code",
   "execution_count": 906,
   "metadata": {
    "collapsed": true,
    "deletable": true,
    "editable": true
   },
   "outputs": [],
   "source": [
    "#impute categorical columns with mode\n",
    "categorical_data = x_train[cat_col].apply(lambda x: x.fillna(x.mode()[0]))"
   ]
  },
  {
   "cell_type": "code",
   "execution_count": 907,
   "metadata": {
    "collapsed": true,
    "deletable": true,
    "editable": true
   },
   "outputs": [],
   "source": [
    "#convert float columns to object for dummy variable creation\n",
    "for c, dtype in zip(categorical_data.columns, categorical_data.dtypes):\n",
    "    if dtype == np.float64:\n",
    "        categorical_data[c] = categorical_data[c].astype(int).astype(str)\n"
   ]
  },
  {
   "cell_type": "code",
   "execution_count": null,
   "metadata": {
    "collapsed": true,
    "deletable": true,
    "editable": true
   },
   "outputs": [],
   "source": [
    "categorical_data.dtypes"
   ]
  },
  {
   "cell_type": "code",
   "execution_count": 908,
   "metadata": {
    "collapsed": true,
    "deletable": true,
    "editable": true
   },
   "outputs": [],
   "source": [
    "categorical_data['yearbuilt'] = categorical_data['yearbuilt'].astype(int)"
   ]
  },
  {
   "cell_type": "code",
   "execution_count": 909,
   "metadata": {
    "collapsed": true,
    "deletable": true,
    "editable": true
   },
   "outputs": [],
   "source": [
    "numeric_data['age'] = categorical_data.yearbuilt.apply(lambda x: 2015 - x)"
   ]
  },
  {
   "cell_type": "code",
   "execution_count": 769,
   "metadata": {
    "collapsed": false
   },
   "outputs": [],
   "source": [
    "numeric_data['roomcnt'] = numeric_data.apply(lambda x: 1 if (x.any()==0) else x)"
   ]
  },
  {
   "cell_type": "code",
   "execution_count": null,
   "metadata": {
    "collapsed": true,
    "deletable": true,
    "editable": true
   },
   "outputs": [],
   "source": [
    "categorical_data = categorical_data.drop('assessmentyear', axis = 1)"
   ]
  },
  {
   "cell_type": "code",
   "execution_count": 912,
   "metadata": {
    "collapsed": true,
    "deletable": true,
    "editable": true
   },
   "outputs": [],
   "source": [
    "categorical_data = categorical_data.drop('yearbuilt', axis = 1)"
   ]
  },
  {
   "cell_type": "code",
   "execution_count": 913,
   "metadata": {
    "collapsed": true,
    "deletable": true,
    "editable": true
   },
   "outputs": [],
   "source": [
    "cat_dummies = pd.get_dummies(categorical_data)"
   ]
  },
  {
   "cell_type": "code",
   "execution_count": 914,
   "metadata": {
    "collapsed": true,
    "deletable": true,
    "editable": true
   },
   "outputs": [],
   "source": [
    "#Concatenate numerical and dummied data frames\n",
    "combined = pd.concat([cat_dummies, numeric_data], axis=1)"
   ]
  },
  {
   "cell_type": "code",
   "execution_count": 916,
   "metadata": {
    "collapsed": true,
    "deletable": true,
    "editable": true
   },
   "outputs": [],
   "source": [
    "# train_y = df_train.logerror.values\n",
    "train_y = df_train.logerror\n",
    "train_x = combined"
   ]
  },
  {
   "cell_type": "code",
   "execution_count": null,
   "metadata": {
    "collapsed": true
   },
   "outputs": [],
   "source": [
    "train_x.head()"
   ]
  },
  {
   "cell_type": "code",
   "execution_count": 817,
   "metadata": {
    "collapsed": false
   },
   "outputs": [
    {
     "data": {
      "image/png": "[encoded data removed]",
      "text/plain": [
       "<matplotlib.figure.Figure at 0x7f567e589190>"
      ]
     },
     "metadata": {},
     "output_type": "display_data"
    }
   ],
   "source": [
    "#plot age of houses\n",
    "sns.distplot(train_x.age, kde=False)\n",
    "fig = matplotlib.pyplot.gcf()\n",
    "fig.set_size_inches(10, 8)"
   ]
  },
  {
   "cell_type": "code",
   "execution_count": 810,
   "metadata": {
    "collapsed": false
   },
   "outputs": [
    {
     "data": {
      "text/plain": [
       "(0, 20.0)"
      ]
     },
     "execution_count": 810,
     "metadata": {},
     "output_type": "execute_result"
    },
    {
     "data": {
      "image/png": "[encoded data removed]",
      "text/plain": [
       "<matplotlib.figure.Figure at 0x7f5682969a10>"
      ]
     },
     "metadata": {},
     "output_type": "display_data"
    }
   ],
   "source": [
    "#plot room count\n",
    "sns.distplot(train_x.roomcnt, kde=False)\n",
    "fig = matplotlib.pyplot.gcf()\n",
    "fig.set_size_inches(10, 8)\n",
    "plt.xlim(0,train_x.roomcnt.max())"
   ]
  },
  {
   "cell_type": "code",
   "execution_count": 815,
   "metadata": {
    "collapsed": false
   },
   "outputs": [
    {
     "data": {
      "text/plain": [
       "(0, 10)"
      ]
     },
     "execution_count": 815,
     "metadata": {},
     "output_type": "execute_result"
    },
    {
     "data": {
      "image/png": "[encoded data removed]",
      "text/plain": [
       "<matplotlib.figure.Figure at 0x7f56a6f01590>"
      ]
     },
     "metadata": {},
     "output_type": "display_data"
    }
   ],
   "source": [
    "#plot room unitcnt\n",
    "sns.distplot(train_x.unitcnt, kde=False, bins=500)\n",
    "fig = matplotlib.pyplot.gcf()\n",
    "fig.set_size_inches(10, 8)\n",
    "plt.xlim(0,10)"
   ]
  },
  {
   "cell_type": "code",
   "execution_count": 935,
   "metadata": {
    "collapsed": false
   },
   "outputs": [],
   "source": [
    "clf = LinearRegression()"
   ]
  },
  {
   "cell_type": "code",
   "execution_count": 925,
   "metadata": {
    "collapsed": false
   },
   "outputs": [],
   "source": [
    "cv_outer = KFold(len(train_x), n_folds=5)\n",
    "lasso = LassoCV(cv=3)"
   ]
  },
  {
   "cell_type": "code",
   "execution_count": 926,
   "metadata": {
    "collapsed": true
   },
   "outputs": [],
   "source": [
    "scores = cross_val_score(lasso, train_x, train_y, cv=cv_outer)"
   ]
  },
  {
   "cell_type": "code",
   "execution_count": 931,
   "metadata": {
    "collapsed": false
   },
   "outputs": [
    {
     "data": {
      "text/plain": [
       "-0.00088394749895144282"
      ]
     },
     "execution_count": 931,
     "metadata": {},
     "output_type": "execute_result"
    }
   ],
   "source": [
    "scores.mean()"
   ]
  },
  {
   "cell_type": "code",
   "execution_count": 933,
   "metadata": {
    "collapsed": true
   },
   "outputs": [],
   "source": [
    "# scores = cross_val_score(clf, train_x, train_y, cv=5, scoring='neg_mean_squared_error')\n",
    "scores = cross_val_score(clf, train_x, train_y, cv=10)"
   ]
  },
  {
   "cell_type": "code",
   "execution_count": 934,
   "metadata": {
    "collapsed": false
   },
   "outputs": [
    {
     "data": {
      "text/plain": [
       "-85162271.437544003"
      ]
     },
     "execution_count": 934,
     "metadata": {},
     "output_type": "execute_result"
    }
   ],
   "source": [
    "scores.mean()"
   ]
  },
  {
   "cell_type": "code",
   "execution_count": 839,
   "metadata": {
    "collapsed": false,
    "deletable": true,
    "editable": true
   },
   "outputs": [],
   "source": [
    "split = int(x_train.shape[0] * 0.6)\n",
    "train_x, train_y, val_x, val_y = train_x[:split], train_y[:split], train_x[split:], train_y[split:]"
   ]
  },
  {
   "cell_type": "code",
   "execution_count": 840,
   "metadata": {
    "collapsed": false
   },
   "outputs": [
    {
     "data": {
      "text/plain": [
       "LogisticRegression(C=1.0, class_weight=None, dual=False, fit_intercept=True,\n",
       "          intercept_scaling=1, max_iter=100, multi_class='ovr', n_jobs=1,\n",
       "          penalty='l2', random_state=None, solver='liblinear', tol=0.0001,\n",
       "          verbose=0, warm_start=False)"
      ]
     },
     "execution_count": 840,
     "metadata": {},
     "output_type": "execute_result"
    }
   ],
   "source": [
    "alg = LogisticRegression()\n",
    "alg.fit(train_x, train_y)"
   ]
  },
  {
   "cell_type": "code",
   "execution_count": 841,
   "metadata": {
    "collapsed": false,
    "deletable": true,
    "editable": true
   },
   "outputs": [],
   "source": [
    "coefs = alg.coef_.reshape(226,)\n",
    "colnames = train_x.columns.values"
   ]
  },
  {
   "cell_type": "code",
   "execution_count": 842,
   "metadata": {
    "collapsed": true,
    "deletable": true,
    "editable": true
   },
   "outputs": [],
   "source": [
    "coefs = pd.Series(coefs)\n",
    "coefs.index = colnames"
   ]
  },
  {
   "cell_type": "code",
   "execution_count": 858,
   "metadata": {
    "collapsed": false,
    "deletable": true,
    "editable": true
   },
   "outputs": [
    {
     "data": {
      "text/plain": [
       "lotsizesquarefeet            2.258360e-07\n",
       "taxamount                    1.770712e-07\n",
       "roomcnt                      9.061791e-11\n",
       "bathroomcnt                  9.061791e-11\n",
       "bedroomcnt                   6.014168e-11\n",
       "heatingorsystemtypeid_2      1.502102e-11\n",
       "buildingqualitytypeid_4      1.282419e-11\n",
       "propertylandusetypeid_266    5.913709e-12\n",
       "fips_6059                    4.993706e-12\n",
       "regionidcounty_1286          4.993706e-12\n",
       "buildingqualitytypeid_1      2.999644e-12\n",
       "regionidcity_52650           2.153364e-12\n",
       "regionidcity_50749           1.942820e-12\n",
       "regionidcity_51239           1.918966e-12\n",
       "buildingqualitytypeid_10     1.852369e-12\n",
       "regionidcity_54311           1.836130e-12\n",
       "regionidcity_20008           1.713920e-12\n",
       "fips_6111                    1.553741e-12\n",
       "regionidcounty_2061          1.553741e-12\n",
       "regionidcity_24384           1.487815e-12\n",
       "regionidcity_25218           1.425429e-12\n",
       "regionidcity_54053           1.356629e-12\n",
       "regionidcity_37015           1.317824e-12\n",
       "regionidcity_52835           1.250644e-12\n",
       "regionidcity_34278           1.174367e-12\n",
       "regionidcity_33840           1.120168e-12\n",
       "regionidcity_12520           1.036631e-12\n",
       "regionidcity_22827           1.008168e-12\n",
       "propertylandusetypeid_269    9.571121e-13\n",
       "regionidcity_50677           9.472173e-13\n",
       "                                 ...     \n",
       "regionidcity_39076          -7.981756e-13\n",
       "regionidcity_10389          -8.324558e-13\n",
       "regionidcity_6021           -8.620585e-13\n",
       "regionidcity_51617          -9.343109e-13\n",
       "propertylandusetypeid_247   -9.552304e-13\n",
       "propertylandusetypeid_248   -9.635145e-13\n",
       "regionidcity_54722          -1.034133e-12\n",
       "regionidcity_45888          -1.061483e-12\n",
       "regionidcity_47762          -1.133571e-12\n",
       "regionidcity_4406           -1.135152e-12\n",
       "regionidcity_32380          -1.176531e-12\n",
       "regionidcity_5465           -1.231459e-12\n",
       "regionidcity_13150          -1.376020e-12\n",
       "heatingorsystemtypeid_24    -1.389749e-12\n",
       "regionidcity_34543          -1.618502e-12\n",
       "propertylandusetypeid_246   -1.856940e-12\n",
       "regionidcity_24174          -1.910723e-12\n",
       "regionidcity_33252          -2.023374e-12\n",
       "regionidcity_16764          -2.103390e-12\n",
       "regionidcity_40227          -2.724203e-12\n",
       "unitcnt                     -2.835838e-12\n",
       "propertylandusetypeid_261   -4.412611e-12\n",
       "regionidcity_12447          -5.838681e-12\n",
       "fips_6037                   -6.509694e-12\n",
       "regionidcounty_3101         -6.509694e-12\n",
       "heatingorsystemtypeid_7     -1.370155e-11\n",
       "buildingqualitytypeid_7     -1.759433e-11\n",
       "age                         -1.617771e-09\n",
       "longitude                   -4.318656e-08\n",
       "latitude                    -1.458393e-07\n",
       "dtype: float64"
      ]
     },
     "execution_count": 858,
     "metadata": {},
     "output_type": "execute_result"
    }
   ],
   "source": [
    "coefs.sort_values(ascending=False)"
   ]
  },
  {
   "cell_type": "code",
   "execution_count": null,
   "metadata": {
    "collapsed": true
   },
   "outputs": [],
   "source": [
    "r2_score(predicted, val_y)"
   ]
  },
  {
   "cell_type": "code",
   "execution_count": null,
   "metadata": {
    "collapsed": true,
    "deletable": true,
    "editable": true
   },
   "outputs": [],
   "source": [
    "accuracy_score(predicted, val_y)"
   ]
  },
  {
   "cell_type": "code",
   "execution_count": null,
   "metadata": {
    "collapsed": true
   },
   "outputs": [],
   "source": [
    "mse = np.mean((predicted -val_y)**2)"
   ]
  },
  {
   "cell_type": "code",
   "execution_count": null,
   "metadata": {
    "collapsed": true
   },
   "outputs": [],
   "source": []
  }
 ],
 "metadata": {
  "kernelspec": {
   "display_name": "Python 2",
   "language": "python",
   "name": "python2"
  },
  "language_info": {
   "codemirror_mode": {
    "name": "ipython",
    "version": 2
   },
   "file_extension": ".py",
   "mimetype": "text/x-python",
   "name": "python",
   "nbconvert_exporter": "python",
   "pygments_lexer": "ipython2",
   "version": "2.7.12"
  }
 },
 "nbformat": 4,
 "nbformat_minor": 2
}
